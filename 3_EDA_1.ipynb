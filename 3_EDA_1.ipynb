{
  "nbformat": 4,
  "nbformat_minor": 0,
  "metadata": {
    "colab": {
      "name": "3. EDA-1.ipynb",
      "provenance": []
    },
    "kernelspec": {
      "name": "python3",
      "display_name": "Python 3"
    },
    "language_info": {
      "name": "python"
    },
    "accelerator": "GPU"
  },
  "cells": [
    {
      "cell_type": "markdown",
      "metadata": {
        "id": "8hvwDxYvEzeE"
      },
      "source": [
        "Name: Sahil Parmar\n",
        "\n",
        "Task 3: EDA (Exploratory Data Analysis) 1\n",
        "\n",
        "Find weak areas, and work on it to get more profit"
      ]
    },
    {
      "cell_type": "code",
      "metadata": {
        "id": "mZ9QajCSEwh0"
      },
      "source": [
        "#Import necessary libraries\n",
        "\n",
        "import pandas as pd\n",
        "import numpy as np"
      ],
      "execution_count": 1,
      "outputs": []
    },
    {
      "cell_type": "code",
      "metadata": {
        "colab": {
          "base_uri": "https://localhost:8080/",
          "height": 204
        },
        "id": "PGwMAOp2GwpM",
        "outputId": "54dd42a4-fbf5-48b6-f9d0-061c20dc4277"
      },
      "source": [
        "#About Data\n",
        "\n",
        "df = pd.read_csv(\"/content/drive/MyDrive/Colab Notebooks/SampleSuperstore.csv\")\n",
        "df.head()"
      ],
      "execution_count": 2,
      "outputs": [
        {
          "output_type": "execute_result",
          "data": {
            "text/html": [
              "<div>\n",
              "<style scoped>\n",
              "    .dataframe tbody tr th:only-of-type {\n",
              "        vertical-align: middle;\n",
              "    }\n",
              "\n",
              "    .dataframe tbody tr th {\n",
              "        vertical-align: top;\n",
              "    }\n",
              "\n",
              "    .dataframe thead th {\n",
              "        text-align: right;\n",
              "    }\n",
              "</style>\n",
              "<table border=\"1\" class=\"dataframe\">\n",
              "  <thead>\n",
              "    <tr style=\"text-align: right;\">\n",
              "      <th></th>\n",
              "      <th>Ship Mode</th>\n",
              "      <th>Segment</th>\n",
              "      <th>Country</th>\n",
              "      <th>City</th>\n",
              "      <th>State</th>\n",
              "      <th>Postal Code</th>\n",
              "      <th>Region</th>\n",
              "      <th>Category</th>\n",
              "      <th>Sub-Category</th>\n",
              "      <th>Sales</th>\n",
              "      <th>Quantity</th>\n",
              "      <th>Discount</th>\n",
              "      <th>Profit</th>\n",
              "    </tr>\n",
              "  </thead>\n",
              "  <tbody>\n",
              "    <tr>\n",
              "      <th>0</th>\n",
              "      <td>Second Class</td>\n",
              "      <td>Consumer</td>\n",
              "      <td>United States</td>\n",
              "      <td>Henderson</td>\n",
              "      <td>Kentucky</td>\n",
              "      <td>42420</td>\n",
              "      <td>South</td>\n",
              "      <td>Furniture</td>\n",
              "      <td>Bookcases</td>\n",
              "      <td>261.9600</td>\n",
              "      <td>2</td>\n",
              "      <td>0.00</td>\n",
              "      <td>41.9136</td>\n",
              "    </tr>\n",
              "    <tr>\n",
              "      <th>1</th>\n",
              "      <td>Second Class</td>\n",
              "      <td>Consumer</td>\n",
              "      <td>United States</td>\n",
              "      <td>Henderson</td>\n",
              "      <td>Kentucky</td>\n",
              "      <td>42420</td>\n",
              "      <td>South</td>\n",
              "      <td>Furniture</td>\n",
              "      <td>Chairs</td>\n",
              "      <td>731.9400</td>\n",
              "      <td>3</td>\n",
              "      <td>0.00</td>\n",
              "      <td>219.5820</td>\n",
              "    </tr>\n",
              "    <tr>\n",
              "      <th>2</th>\n",
              "      <td>Second Class</td>\n",
              "      <td>Corporate</td>\n",
              "      <td>United States</td>\n",
              "      <td>Los Angeles</td>\n",
              "      <td>California</td>\n",
              "      <td>90036</td>\n",
              "      <td>West</td>\n",
              "      <td>Office Supplies</td>\n",
              "      <td>Labels</td>\n",
              "      <td>14.6200</td>\n",
              "      <td>2</td>\n",
              "      <td>0.00</td>\n",
              "      <td>6.8714</td>\n",
              "    </tr>\n",
              "    <tr>\n",
              "      <th>3</th>\n",
              "      <td>Standard Class</td>\n",
              "      <td>Consumer</td>\n",
              "      <td>United States</td>\n",
              "      <td>Fort Lauderdale</td>\n",
              "      <td>Florida</td>\n",
              "      <td>33311</td>\n",
              "      <td>South</td>\n",
              "      <td>Furniture</td>\n",
              "      <td>Tables</td>\n",
              "      <td>957.5775</td>\n",
              "      <td>5</td>\n",
              "      <td>0.45</td>\n",
              "      <td>-383.0310</td>\n",
              "    </tr>\n",
              "    <tr>\n",
              "      <th>4</th>\n",
              "      <td>Standard Class</td>\n",
              "      <td>Consumer</td>\n",
              "      <td>United States</td>\n",
              "      <td>Fort Lauderdale</td>\n",
              "      <td>Florida</td>\n",
              "      <td>33311</td>\n",
              "      <td>South</td>\n",
              "      <td>Office Supplies</td>\n",
              "      <td>Storage</td>\n",
              "      <td>22.3680</td>\n",
              "      <td>2</td>\n",
              "      <td>0.20</td>\n",
              "      <td>2.5164</td>\n",
              "    </tr>\n",
              "  </tbody>\n",
              "</table>\n",
              "</div>"
            ],
            "text/plain": [
              "        Ship Mode    Segment        Country  ... Quantity Discount    Profit\n",
              "0    Second Class   Consumer  United States  ...        2     0.00   41.9136\n",
              "1    Second Class   Consumer  United States  ...        3     0.00  219.5820\n",
              "2    Second Class  Corporate  United States  ...        2     0.00    6.8714\n",
              "3  Standard Class   Consumer  United States  ...        5     0.45 -383.0310\n",
              "4  Standard Class   Consumer  United States  ...        2     0.20    2.5164\n",
              "\n",
              "[5 rows x 13 columns]"
            ]
          },
          "metadata": {
            "tags": []
          },
          "execution_count": 2
        }
      ]
    },
    {
      "cell_type": "code",
      "metadata": {
        "colab": {
          "base_uri": "https://localhost:8080/"
        },
        "id": "oRbIpVdrHjtx",
        "outputId": "ef86f78b-79f2-4d52-c97e-ec4aff05a532"
      },
      "source": [
        "#Shape of Data\n",
        "\n",
        "df.shape"
      ],
      "execution_count": 3,
      "outputs": [
        {
          "output_type": "execute_result",
          "data": {
            "text/plain": [
              "(9994, 13)"
            ]
          },
          "metadata": {
            "tags": []
          },
          "execution_count": 3
        }
      ]
    },
    {
      "cell_type": "code",
      "metadata": {
        "colab": {
          "base_uri": "https://localhost:8080/"
        },
        "id": "UNStPN6ykHnI",
        "outputId": "d5ea77b0-48c9-405e-cf39-0a0bd8afe50c"
      },
      "source": [
        "#Columns present in dataset\n",
        "\n",
        "df.columns"
      ],
      "execution_count": 4,
      "outputs": [
        {
          "output_type": "execute_result",
          "data": {
            "text/plain": [
              "Index(['Ship Mode', 'Segment', 'Country', 'City', 'State', 'Postal Code',\n",
              "       'Region', 'Category', 'Sub-Category', 'Sales', 'Quantity', 'Discount',\n",
              "       'Profit'],\n",
              "      dtype='object')"
            ]
          },
          "metadata": {
            "tags": []
          },
          "execution_count": 4
        }
      ]
    },
    {
      "cell_type": "code",
      "metadata": {
        "colab": {
          "base_uri": "https://localhost:8080/"
        },
        "id": "dAIttroHkhtO",
        "outputId": "65611a4c-18ba-4dca-fbb7-76de098a3608"
      },
      "source": [
        "#Now which fator can affect sales by mean values\n",
        "\n",
        "df.groupby([\"Segment\"])[\"Profit\"].mean()"
      ],
      "execution_count": 6,
      "outputs": [
        {
          "output_type": "execute_result",
          "data": {
            "text/plain": [
              "Segment\n",
              "Consumer       25.836873\n",
              "Corporate      30.456667\n",
              "Home Office    33.818664\n",
              "Name: Profit, dtype: float64"
            ]
          },
          "metadata": {
            "tags": []
          },
          "execution_count": 6
        }
      ]
    },
    {
      "cell_type": "code",
      "metadata": {
        "colab": {
          "base_uri": "https://localhost:8080/"
        },
        "id": "NwpyOuVJkMeh",
        "outputId": "fff94290-69c0-474c-dcf6-b1a417fcce8d"
      },
      "source": [
        "df.groupby([\"Ship Mode\"])[\"Profit\"].mean()"
      ],
      "execution_count": 7,
      "outputs": [
        {
          "output_type": "execute_result",
          "data": {
            "text/plain": [
              "Ship Mode\n",
              "First Class       31.839948\n",
              "Same Day          29.266591\n",
              "Second Class      29.535545\n",
              "Standard Class    27.494770\n",
              "Name: Profit, dtype: float64"
            ]
          },
          "metadata": {
            "tags": []
          },
          "execution_count": 7
        }
      ]
    },
    {
      "cell_type": "code",
      "metadata": {
        "id": "UJPdRK1TJVFK",
        "colab": {
          "base_uri": "https://localhost:8080/"
        },
        "outputId": "98b422e6-7334-4c53-ba05-03b8dd7b2e8c"
      },
      "source": [
        "df.groupby([\"Postal Code\"])[\"Profit\"].mean()"
      ],
      "execution_count": 8,
      "outputs": [
        {
          "output_type": "execute_result",
          "data": {
            "text/plain": [
              "Postal Code\n",
              "1040     60.392000\n",
              "1453     13.250267\n",
              "1752     33.803400\n",
              "1810     31.047150\n",
              "1841     56.042530\n",
              "           ...    \n",
              "98502    27.925380\n",
              "98632    12.966100\n",
              "98661    15.090920\n",
              "99207    24.603729\n",
              "99301    59.587400\n",
              "Name: Profit, Length: 631, dtype: float64"
            ]
          },
          "metadata": {
            "tags": []
          },
          "execution_count": 8
        }
      ]
    },
    {
      "cell_type": "code",
      "metadata": {
        "colab": {
          "base_uri": "https://localhost:8080/"
        },
        "id": "Ia2CjtVMiQi9",
        "outputId": "b81e13db-4e93-4019-fa15-cd091018b2f9"
      },
      "source": [
        "df.groupby([\"Region\"])[\"Profit\"].mean()"
      ],
      "execution_count": 10,
      "outputs": [
        {
          "output_type": "execute_result",
          "data": {
            "text/plain": [
              "Region\n",
              "Central    17.092709\n",
              "East       32.135808\n",
              "South      28.857673\n",
              "West       33.849032\n",
              "Name: Profit, dtype: float64"
            ]
          },
          "metadata": {
            "tags": []
          },
          "execution_count": 10
        }
      ]
    },
    {
      "cell_type": "code",
      "metadata": {
        "colab": {
          "base_uri": "https://localhost:8080/"
        },
        "id": "ws6vd4hXh21I",
        "outputId": "12ec4a91-f1e6-4969-af19-befad82ce3e3"
      },
      "source": [
        "df.groupby([\"City\"])[\"Profit\"].mean()"
      ],
      "execution_count": 11,
      "outputs": [
        {
          "output_type": "execute_result",
          "data": {
            "text/plain": [
              "City\n",
              "Aberdeen         6.630000\n",
              "Abilene         -3.758400\n",
              "Akron           -8.887410\n",
              "Albuquerque     45.292007\n",
              "Alexandria      19.913644\n",
              "                  ...    \n",
              "Woonsocket      19.669775\n",
              "Yonkers        184.517047\n",
              "York           -20.433840\n",
              "Yucaipa         13.208000\n",
              "Yuma          -116.497725\n",
              "Name: Profit, Length: 531, dtype: float64"
            ]
          },
          "metadata": {
            "tags": []
          },
          "execution_count": 11
        }
      ]
    },
    {
      "cell_type": "code",
      "metadata": {
        "id": "xbM1WDz-krZv",
        "colab": {
          "base_uri": "https://localhost:8080/"
        },
        "outputId": "d82a8f0b-2264-423c-902f-9c0bca2a90b9"
      },
      "source": [
        "df.groupby([\"State\"])[\"Profit\"].mean()"
      ],
      "execution_count": 12,
      "outputs": [
        {
          "output_type": "execute_result",
          "data": {
            "text/plain": [
              "State\n",
              "Alabama                  94.865989\n",
              "Arizona                 -15.303235\n",
              "Arkansas                 66.811452\n",
              "California               38.171608\n",
              "Colorado                -35.867351\n",
              "Connecticut              42.823071\n",
              "Delaware                103.930988\n",
              "District of Columbia    105.958930\n",
              "Florida                  -8.875461\n",
              "Georgia                  88.315453\n",
              "Idaho                    39.367767\n",
              "Illinois                -25.625787\n",
              "Indiana                 123.375411\n",
              "Iowa                     39.460397\n",
              "Kansas                   34.851813\n",
              "Kentucky                 80.573357\n",
              "Louisiana                52.288150\n",
              "Maine                    56.810775\n",
              "Maryland                 66.963608\n",
              "Massachusetts            50.262975\n",
              "Michigan                 95.934069\n",
              "Minnesota               121.608847\n",
              "Mississippi              59.867475\n",
              "Missouri                 97.518341\n",
              "Montana                 122.221900\n",
              "Nebraska                 53.607742\n",
              "Nevada                   85.045279\n",
              "New Hampshire            63.203807\n",
              "New Jersey               75.176260\n",
              "New Mexico               31.273408\n",
              "New York                 65.637011\n",
              "North Carolina          -30.083985\n",
              "North Dakota             32.878529\n",
              "Ohio                    -36.186304\n",
              "Oklahoma                 73.544788\n",
              "Oregon                   -9.600569\n",
              "Pennsylvania            -26.507598\n",
              "Rhode Island            130.100523\n",
              "South Carolina           42.120395\n",
              "South Dakota             32.902358\n",
              "Tennessee               -29.189583\n",
              "Texas                   -26.121174\n",
              "Utah                     48.047802\n",
              "Vermont                 204.088936\n",
              "Virginia                 83.026564\n",
              "Washington               66.013146\n",
              "West Virginia            46.480400\n",
              "Wisconsin                76.380004\n",
              "Wyoming                 100.196000\n",
              "Name: Profit, dtype: float64"
            ]
          },
          "metadata": {
            "tags": []
          },
          "execution_count": 12
        }
      ]
    },
    {
      "cell_type": "code",
      "metadata": {
        "colab": {
          "base_uri": "https://localhost:8080/"
        },
        "id": "-0i2B1z1iilH",
        "outputId": "8ef0cfb0-ae1f-402c-be8e-f3769814bb23"
      },
      "source": [
        "df.groupby([\"Discount\"])[\"Profit\"].mean()"
      ],
      "execution_count": 14,
      "outputs": [
        {
          "output_type": "execute_result",
          "data": {
            "text/plain": [
              "Discount\n",
              "0.00     66.900292\n",
              "0.10     96.055074\n",
              "0.15     27.288298\n",
              "0.20     24.702572\n",
              "0.30    -45.679636\n",
              "0.32    -88.560656\n",
              "0.40   -111.927429\n",
              "0.45   -226.646464\n",
              "0.50   -310.703456\n",
              "0.60    -43.077212\n",
              "0.70    -95.874060\n",
              "0.80   -101.796797\n",
              "Name: Profit, dtype: float64"
            ]
          },
          "metadata": {
            "tags": []
          },
          "execution_count": 14
        }
      ]
    },
    {
      "cell_type": "code",
      "metadata": {
        "colab": {
          "base_uri": "https://localhost:8080/"
        },
        "id": "oe-5iEyljR4K",
        "outputId": "b18dcb2f-938e-4795-82bd-d6b86a0ece75"
      },
      "source": [
        "df.groupby([\"Category\"])[\"Profit\"].mean()"
      ],
      "execution_count": 16,
      "outputs": [
        {
          "output_type": "execute_result",
          "data": {
            "text/plain": [
              "Category\n",
              "Furniture           8.699327\n",
              "Office Supplies    20.327050\n",
              "Technology         78.752002\n",
              "Name: Profit, dtype: float64"
            ]
          },
          "metadata": {
            "tags": []
          },
          "execution_count": 16
        }
      ]
    },
    {
      "cell_type": "code",
      "metadata": {
        "colab": {
          "base_uri": "https://localhost:8080/"
        },
        "id": "tb5Nqp_BjZke",
        "outputId": "69b5c613-f8f3-4b24-e4ef-a6ed94af15ce"
      },
      "source": [
        "df.groupby([\"Sub-Category\"])[\"Profit\"].mean()"
      ],
      "execution_count": 17,
      "outputs": [
        {
          "output_type": "execute_result",
          "data": {
            "text/plain": [
              "Sub-Category\n",
              "Accessories     54.111788\n",
              "Appliances      38.922758\n",
              "Art              8.200737\n",
              "Binders         19.843574\n",
              "Bookcases      -15.230509\n",
              "Chairs          43.095894\n",
              "Copiers        817.909190\n",
              "Envelopes       27.418019\n",
              "Fasteners        4.375660\n",
              "Furnishings     13.645918\n",
              "Labels          15.236962\n",
              "Machines        29.432669\n",
              "Paper           24.856620\n",
              "Phones          50.073938\n",
              "Storage         25.152277\n",
              "Supplies        -6.258418\n",
              "Tables         -55.565771\n",
              "Name: Profit, dtype: float64"
            ]
          },
          "metadata": {
            "tags": []
          },
          "execution_count": 17
        }
      ]
    },
    {
      "cell_type": "code",
      "metadata": {
        "colab": {
          "base_uri": "https://localhost:8080/"
        },
        "id": "km7xrjjujp0U",
        "outputId": "efff0c88-8e01-43ec-dda7-dcbb7202117b"
      },
      "source": [
        "df.groupby([\"Sales\"])[\"Profit\"].mean()"
      ],
      "execution_count": 18,
      "outputs": [
        {
          "output_type": "execute_result",
          "data": {
            "text/plain": [
              "Sales\n",
              "0.444          -1.1100\n",
              "0.556          -0.9452\n",
              "0.836          -1.3376\n",
              "0.852          -0.5964\n",
              "0.876          -1.4016\n",
              "               ...    \n",
              "10499.970    5039.9856\n",
              "11199.968    3919.9888\n",
              "13999.960    6719.9808\n",
              "17499.950    8399.9760\n",
              "22638.480   -1811.0784\n",
              "Name: Profit, Length: 5825, dtype: float64"
            ]
          },
          "metadata": {
            "tags": []
          },
          "execution_count": 18
        }
      ]
    },
    {
      "cell_type": "code",
      "metadata": {
        "colab": {
          "base_uri": "https://localhost:8080/"
        },
        "id": "wVBIzmw_jxB4",
        "outputId": "b02c4e3d-9fe5-4d6d-8fd6-027ce9271a38"
      },
      "source": [
        "df.groupby([\"Quantity\"])[\"Profit\"].mean()"
      ],
      "execution_count": 19,
      "outputs": [
        {
          "output_type": "execute_result",
          "data": {
            "text/plain": [
              "Quantity\n",
              "1       8.276396\n",
              "2      16.006831\n",
              "3      23.667715\n",
              "4      37.131310\n",
              "5      40.257394\n",
              "6      18.051517\n",
              "7      56.579163\n",
              "8      42.244342\n",
              "9      68.557716\n",
              "10     35.862404\n",
              "11    126.275503\n",
              "12     51.524609\n",
              "13    235.144481\n",
              "14     93.931166\n",
              "Name: Profit, dtype: float64"
            ]
          },
          "metadata": {
            "tags": []
          },
          "execution_count": 19
        }
      ]
    },
    {
      "cell_type": "markdown",
      "metadata": {
        "id": "AVglPp0KBOU1"
      },
      "source": [
        "**Conclusion:** As we can see from above analysis, Sales is mostly depends on region, city, postal code, category and sub category things bought by people. Discount is also affects the sales and profit.\n"
      ]
    }
  ]
}