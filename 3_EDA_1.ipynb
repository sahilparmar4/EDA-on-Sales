{
  "nbformat": 4,
  "nbformat_minor": 0,
  "metadata": {
    "colab": {
      "name": "3. EDA-1.ipynb",
      "provenance": []
    },
    "kernelspec": {
      "name": "python3",
      "display_name": "Python 3"
    },
    "language_info": {
      "name": "python"
    },
    "accelerator": "GPU"
  },
  "cells": [
    {
      "cell_type": "markdown",
      "metadata": {
        "id": "8hvwDxYvEzeE"
      },
      "source": [
        "Name: Sahil Parmar\n",
        "\n",
        "Task 3: EDA (Exploratory Data Analysis) 1\n",
        "\n",
        "Find weak areas, and work on it to get more profit"
      ]
    },
    {
      "cell_type": "code",
      "metadata": {
        "id": "mZ9QajCSEwh0"
      },
      "source": [
        "#Import necessary libraries\n",
        "\n",
        "import pandas as pd\n",
        "import numpy as np\n",
        "import matplotlib.pyplot as plt"
      ],
      "execution_count": 19,
      "outputs": []
    },
    {
      "cell_type": "code",
      "metadata": {
        "colab": {
          "base_uri": "https://localhost:8080/",
          "height": 204
        },
        "id": "PGwMAOp2GwpM",
        "outputId": "d97d6e4c-ba86-462c-b00d-5a4152619ecd"
      },
      "source": [
        "#About Data\n",
        "\n",
        "df = pd.read_csv(\"/content/drive/MyDrive/Colab Notebooks/SampleSuperstore.csv\")\n",
        "df.head()"
      ],
      "execution_count": 20,
      "outputs": [
        {
          "output_type": "execute_result",
          "data": {
            "text/html": [
              "<div>\n",
              "<style scoped>\n",
              "    .dataframe tbody tr th:only-of-type {\n",
              "        vertical-align: middle;\n",
              "    }\n",
              "\n",
              "    .dataframe tbody tr th {\n",
              "        vertical-align: top;\n",
              "    }\n",
              "\n",
              "    .dataframe thead th {\n",
              "        text-align: right;\n",
              "    }\n",
              "</style>\n",
              "<table border=\"1\" class=\"dataframe\">\n",
              "  <thead>\n",
              "    <tr style=\"text-align: right;\">\n",
              "      <th></th>\n",
              "      <th>Ship Mode</th>\n",
              "      <th>Segment</th>\n",
              "      <th>Country</th>\n",
              "      <th>City</th>\n",
              "      <th>State</th>\n",
              "      <th>Postal Code</th>\n",
              "      <th>Region</th>\n",
              "      <th>Category</th>\n",
              "      <th>Sub-Category</th>\n",
              "      <th>Sales</th>\n",
              "      <th>Quantity</th>\n",
              "      <th>Discount</th>\n",
              "      <th>Profit</th>\n",
              "    </tr>\n",
              "  </thead>\n",
              "  <tbody>\n",
              "    <tr>\n",
              "      <th>0</th>\n",
              "      <td>Second Class</td>\n",
              "      <td>Consumer</td>\n",
              "      <td>United States</td>\n",
              "      <td>Henderson</td>\n",
              "      <td>Kentucky</td>\n",
              "      <td>42420</td>\n",
              "      <td>South</td>\n",
              "      <td>Furniture</td>\n",
              "      <td>Bookcases</td>\n",
              "      <td>261.9600</td>\n",
              "      <td>2</td>\n",
              "      <td>0.00</td>\n",
              "      <td>41.9136</td>\n",
              "    </tr>\n",
              "    <tr>\n",
              "      <th>1</th>\n",
              "      <td>Second Class</td>\n",
              "      <td>Consumer</td>\n",
              "      <td>United States</td>\n",
              "      <td>Henderson</td>\n",
              "      <td>Kentucky</td>\n",
              "      <td>42420</td>\n",
              "      <td>South</td>\n",
              "      <td>Furniture</td>\n",
              "      <td>Chairs</td>\n",
              "      <td>731.9400</td>\n",
              "      <td>3</td>\n",
              "      <td>0.00</td>\n",
              "      <td>219.5820</td>\n",
              "    </tr>\n",
              "    <tr>\n",
              "      <th>2</th>\n",
              "      <td>Second Class</td>\n",
              "      <td>Corporate</td>\n",
              "      <td>United States</td>\n",
              "      <td>Los Angeles</td>\n",
              "      <td>California</td>\n",
              "      <td>90036</td>\n",
              "      <td>West</td>\n",
              "      <td>Office Supplies</td>\n",
              "      <td>Labels</td>\n",
              "      <td>14.6200</td>\n",
              "      <td>2</td>\n",
              "      <td>0.00</td>\n",
              "      <td>6.8714</td>\n",
              "    </tr>\n",
              "    <tr>\n",
              "      <th>3</th>\n",
              "      <td>Standard Class</td>\n",
              "      <td>Consumer</td>\n",
              "      <td>United States</td>\n",
              "      <td>Fort Lauderdale</td>\n",
              "      <td>Florida</td>\n",
              "      <td>33311</td>\n",
              "      <td>South</td>\n",
              "      <td>Furniture</td>\n",
              "      <td>Tables</td>\n",
              "      <td>957.5775</td>\n",
              "      <td>5</td>\n",
              "      <td>0.45</td>\n",
              "      <td>-383.0310</td>\n",
              "    </tr>\n",
              "    <tr>\n",
              "      <th>4</th>\n",
              "      <td>Standard Class</td>\n",
              "      <td>Consumer</td>\n",
              "      <td>United States</td>\n",
              "      <td>Fort Lauderdale</td>\n",
              "      <td>Florida</td>\n",
              "      <td>33311</td>\n",
              "      <td>South</td>\n",
              "      <td>Office Supplies</td>\n",
              "      <td>Storage</td>\n",
              "      <td>22.3680</td>\n",
              "      <td>2</td>\n",
              "      <td>0.20</td>\n",
              "      <td>2.5164</td>\n",
              "    </tr>\n",
              "  </tbody>\n",
              "</table>\n",
              "</div>"
            ],
            "text/plain": [
              "        Ship Mode    Segment        Country  ... Quantity Discount    Profit\n",
              "0    Second Class   Consumer  United States  ...        2     0.00   41.9136\n",
              "1    Second Class   Consumer  United States  ...        3     0.00  219.5820\n",
              "2    Second Class  Corporate  United States  ...        2     0.00    6.8714\n",
              "3  Standard Class   Consumer  United States  ...        5     0.45 -383.0310\n",
              "4  Standard Class   Consumer  United States  ...        2     0.20    2.5164\n",
              "\n",
              "[5 rows x 13 columns]"
            ]
          },
          "metadata": {
            "tags": []
          },
          "execution_count": 20
        }
      ]
    },
    {
      "cell_type": "code",
      "metadata": {
        "colab": {
          "base_uri": "https://localhost:8080/"
        },
        "id": "oRbIpVdrHjtx",
        "outputId": "faa0a99d-e106-475d-d029-e52c87687043"
      },
      "source": [
        "#Shape of Data\n",
        "\n",
        "df.shape"
      ],
      "execution_count": 21,
      "outputs": [
        {
          "output_type": "execute_result",
          "data": {
            "text/plain": [
              "(9994, 13)"
            ]
          },
          "metadata": {
            "tags": []
          },
          "execution_count": 21
        }
      ]
    },
    {
      "cell_type": "code",
      "metadata": {
        "colab": {
          "base_uri": "https://localhost:8080/"
        },
        "id": "UNStPN6ykHnI",
        "outputId": "397b2058-c636-470f-850e-38d8d016a585"
      },
      "source": [
        "#Columns present in dataset\n",
        "\n",
        "df.columns"
      ],
      "execution_count": 22,
      "outputs": [
        {
          "output_type": "execute_result",
          "data": {
            "text/plain": [
              "Index(['Ship Mode', 'Segment', 'Country', 'City', 'State', 'Postal Code',\n",
              "       'Region', 'Category', 'Sub-Category', 'Sales', 'Quantity', 'Discount',\n",
              "       'Profit'],\n",
              "      dtype='object')"
            ]
          },
          "metadata": {
            "tags": []
          },
          "execution_count": 22
        }
      ]
    },
    {
      "cell_type": "code",
      "metadata": {
        "colab": {
          "base_uri": "https://localhost:8080/"
        },
        "id": "dAIttroHkhtO",
        "outputId": "e2ba1939-f260-4b55-fb9c-2a58421d85a8"
      },
      "source": [
        "#Now which fator can affect sales by mean values\n",
        "\n",
        "df.groupby([\"Segment\"])[\"Profit\"].mean()"
      ],
      "execution_count": 23,
      "outputs": [
        {
          "output_type": "execute_result",
          "data": {
            "text/plain": [
              "Segment\n",
              "Consumer       25.836873\n",
              "Corporate      30.456667\n",
              "Home Office    33.818664\n",
              "Name: Profit, dtype: float64"
            ]
          },
          "metadata": {
            "tags": []
          },
          "execution_count": 23
        }
      ]
    },
    {
      "cell_type": "code",
      "metadata": {
        "colab": {
          "base_uri": "https://localhost:8080/",
          "height": 279
        },
        "id": "7UIGqlGussWN",
        "outputId": "5618407c-08ec-47cf-daea-6dceadfe4969"
      },
      "source": [
        "plt.xlabel(\"Segment\")\n",
        "plt.ylabel(\"Profit\")\n",
        "plt.bar(df[\"Segment\"], df[\"Profit\"])\n",
        "plt.show()"
      ],
      "execution_count": 26,
      "outputs": [
        {
          "output_type": "display_data",
          "data": {
            "image/png": "[encoded data removed]",
            "text/plain": [
              "<Figure size 432x288 with 1 Axes>"
            ]
          },
          "metadata": {
            "tags": [],
            "needs_background": "light"
          }
        }
      ]
    },
    {
      "cell_type": "code",
      "metadata": {
        "colab": {
          "base_uri": "https://localhost:8080/"
        },
        "id": "NwpyOuVJkMeh",
        "outputId": "8f65fdec-3193-4e96-acff-11bddae3dcd0"
      },
      "source": [
        "df.groupby([\"Ship Mode\"])[\"Profit\"].mean()"
      ],
      "execution_count": 8,
      "outputs": [
        {
          "output_type": "execute_result",
          "data": {
            "text/plain": [
              "Ship Mode\n",
              "First Class       31.839948\n",
              "Same Day          29.266591\n",
              "Second Class      29.535545\n",
              "Standard Class    27.494770\n",
              "Name: Profit, dtype: float64"
            ]
          },
          "metadata": {
            "tags": []
          },
          "execution_count": 8
        }
      ]
    },
    {
      "cell_type": "code",
      "metadata": {
        "colab": {
          "base_uri": "https://localhost:8080/",
          "height": 279
        },
        "id": "cZS3Hc9cuCeY",
        "outputId": "e4d8a90a-1fa6-46e6-c32b-0c0136de1e0c"
      },
      "source": [
        "plt.xlabel(\"Ship Mode\")\n",
        "plt.ylabel(\"Profit\")\n",
        "plt.bar(df[\"Ship Mode\"], df[\"Profit\"])\n",
        "plt.show()"
      ],
      "execution_count": 27,
      "outputs": [
        {
          "output_type": "display_data",
          "data": {
            "image/png": "[encoded data removed]",
            "text/plain": [
              "<Figure size 432x288 with 1 Axes>"
            ]
          },
          "metadata": {
            "tags": [],
            "needs_background": "light"
          }
        }
      ]
    },
    {
      "cell_type": "code",
      "metadata": {
        "id": "UJPdRK1TJVFK",
        "colab": {
          "base_uri": "https://localhost:8080/"
        },
        "outputId": "1a53c148-8510-4ea1-e1a4-e074baa07e5d"
      },
      "source": [
        "df.groupby([\"Postal Code\"])[\"Profit\"].mean()"
      ],
      "execution_count": 9,
      "outputs": [
        {
          "output_type": "execute_result",
          "data": {
            "text/plain": [
              "Postal Code\n",
              "1040     60.392000\n",
              "1453     13.250267\n",
              "1752     33.803400\n",
              "1810     31.047150\n",
              "1841     56.042530\n",
              "           ...    \n",
              "98502    27.925380\n",
              "98632    12.966100\n",
              "98661    15.090920\n",
              "99207    24.603729\n",
              "99301    59.587400\n",
              "Name: Profit, Length: 631, dtype: float64"
            ]
          },
          "metadata": {
            "tags": []
          },
          "execution_count": 9
        }
      ]
    },
    {
      "cell_type": "code",
      "metadata": {
        "colab": {
          "base_uri": "https://localhost:8080/",
          "height": 279
        },
        "id": "j1HOoBuLuRQ9",
        "outputId": "ca378515-9a2b-48a5-901b-9ae282d377cb"
      },
      "source": [
        "plt.xlabel(\"Postal Code\")\n",
        "plt.ylabel(\"Profit\")\n",
        "plt.bar(df[\"Postal Code\"], df[\"Profit\"])\n",
        "plt.show()"
      ],
      "execution_count": 29,
      "outputs": [
        {
          "output_type": "display_data",
          "data": {
            "image/png": "[encoded data removed]",
            "text/plain": [
              "<Figure size 432x288 with 1 Axes>"
            ]
          },
          "metadata": {
            "tags": [],
            "needs_background": "light"
          }
        }
      ]
    },
    {
      "cell_type": "code",
      "metadata": {
        "colab": {
          "base_uri": "https://localhost:8080/"
        },
        "id": "Ia2CjtVMiQi9",
        "outputId": "62c2aadf-536e-4d92-991c-a8468b27f8b6"
      },
      "source": [
        "df.groupby([\"Region\"])[\"Profit\"].mean()"
      ],
      "execution_count": 10,
      "outputs": [
        {
          "output_type": "execute_result",
          "data": {
            "text/plain": [
              "Region\n",
              "Central    17.092709\n",
              "East       32.135808\n",
              "South      28.857673\n",
              "West       33.849032\n",
              "Name: Profit, dtype: float64"
            ]
          },
          "metadata": {
            "tags": []
          },
          "execution_count": 10
        }
      ]
    },
    {
      "cell_type": "code",
      "metadata": {
        "colab": {
          "base_uri": "https://localhost:8080/",
          "height": 279
        },
        "id": "0DPb3sCbuq-z",
        "outputId": "850803a2-529c-4c63-e2d0-8f6e4e00fc0e"
      },
      "source": [
        "plt.xlabel(\"Region\")\n",
        "plt.ylabel(\"Profit\")\n",
        "plt.bar(df[\"Region\"], df[\"Profit\"])\n",
        "plt.show()"
      ],
      "execution_count": 30,
      "outputs": [
        {
          "output_type": "display_data",
          "data": {
            "image/png": "[encoded data removed]",
            "text/plain": [
              "<Figure size 432x288 with 1 Axes>"
            ]
          },
          "metadata": {
            "tags": [],
            "needs_background": "light"
          }
        }
      ]
    },
    {
      "cell_type": "code",
      "metadata": {
        "colab": {
          "base_uri": "https://localhost:8080/"
        },
        "id": "ws6vd4hXh21I",
        "outputId": "60f9224d-9aab-4be3-9a8b-3ccb6c9d369d"
      },
      "source": [
        "ct = df.groupby([\"City\"])[\"Profit\"].mean()\n",
        "ct"
      ],
      "execution_count": 39,
      "outputs": [
        {
          "output_type": "execute_result",
          "data": {
            "text/plain": [
              "City\n",
              "Aberdeen         6.630000\n",
              "Abilene         -3.758400\n",
              "Akron           -8.887410\n",
              "Albuquerque     45.292007\n",
              "Alexandria      19.913644\n",
              "                  ...    \n",
              "Woonsocket      19.669775\n",
              "Yonkers        184.517047\n",
              "York           -20.433840\n",
              "Yucaipa         13.208000\n",
              "Yuma          -116.497725\n",
              "Name: Profit, Length: 531, dtype: float64"
            ]
          },
          "metadata": {
            "tags": []
          },
          "execution_count": 39
        }
      ]
    },
    {
      "cell_type": "code",
      "metadata": {
        "id": "xbM1WDz-krZv",
        "colab": {
          "base_uri": "https://localhost:8080/"
        },
        "outputId": "52e71f70-3b35-4938-ff4d-23b41bc2df2c"
      },
      "source": [
        "df.groupby([\"State\"])[\"Profit\"].mean()"
      ],
      "execution_count": 41,
      "outputs": [
        {
          "output_type": "execute_result",
          "data": {
            "text/plain": [
              "State\n",
              "Alabama                  94.865989\n",
              "Arizona                 -15.303235\n",
              "Arkansas                 66.811452\n",
              "California               38.171608\n",
              "Colorado                -35.867351\n",
              "Connecticut              42.823071\n",
              "Delaware                103.930988\n",
              "District of Columbia    105.958930\n",
              "Florida                  -8.875461\n",
              "Georgia                  88.315453\n",
              "Idaho                    39.367767\n",
              "Illinois                -25.625787\n",
              "Indiana                 123.375411\n",
              "Iowa                     39.460397\n",
              "Kansas                   34.851813\n",
              "Kentucky                 80.573357\n",
              "Louisiana                52.288150\n",
              "Maine                    56.810775\n",
              "Maryland                 66.963608\n",
              "Massachusetts            50.262975\n",
              "Michigan                 95.934069\n",
              "Minnesota               121.608847\n",
              "Mississippi              59.867475\n",
              "Missouri                 97.518341\n",
              "Montana                 122.221900\n",
              "Nebraska                 53.607742\n",
              "Nevada                   85.045279\n",
              "New Hampshire            63.203807\n",
              "New Jersey               75.176260\n",
              "New Mexico               31.273408\n",
              "New York                 65.637011\n",
              "North Carolina          -30.083985\n",
              "North Dakota             32.878529\n",
              "Ohio                    -36.186304\n",
              "Oklahoma                 73.544788\n",
              "Oregon                   -9.600569\n",
              "Pennsylvania            -26.507598\n",
              "Rhode Island            130.100523\n",
              "South Carolina           42.120395\n",
              "South Dakota             32.902358\n",
              "Tennessee               -29.189583\n",
              "Texas                   -26.121174\n",
              "Utah                     48.047802\n",
              "Vermont                 204.088936\n",
              "Virginia                 83.026564\n",
              "Washington               66.013146\n",
              "West Virginia            46.480400\n",
              "Wisconsin                76.380004\n",
              "Wyoming                 100.196000\n",
              "Name: Profit, dtype: float64"
            ]
          },
          "metadata": {
            "tags": []
          },
          "execution_count": 41
        }
      ]
    },
    {
      "cell_type": "code",
      "metadata": {
        "colab": {
          "base_uri": "https://localhost:8080/"
        },
        "id": "-0i2B1z1iilH",
        "outputId": "8124272b-17b1-46cc-f29a-eb71c96cae16"
      },
      "source": [
        "df.groupby([\"Discount\"])[\"Profit\"].mean()"
      ],
      "execution_count": 13,
      "outputs": [
        {
          "output_type": "execute_result",
          "data": {
            "text/plain": [
              "Discount\n",
              "0.00     66.900292\n",
              "0.10     96.055074\n",
              "0.15     27.288298\n",
              "0.20     24.702572\n",
              "0.30    -45.679636\n",
              "0.32    -88.560656\n",
              "0.40   -111.927429\n",
              "0.45   -226.646464\n",
              "0.50   -310.703456\n",
              "0.60    -43.077212\n",
              "0.70    -95.874060\n",
              "0.80   -101.796797\n",
              "Name: Profit, dtype: float64"
            ]
          },
          "metadata": {
            "tags": []
          },
          "execution_count": 13
        }
      ]
    },
    {
      "cell_type": "code",
      "metadata": {
        "colab": {
          "base_uri": "https://localhost:8080/",
          "height": 279
        },
        "id": "GcXS0grWzJ6W",
        "outputId": "fb0f8c64-bfda-419b-dd54-7e891068c45d"
      },
      "source": [
        "plt.xlabel(\"Discount\")\n",
        "plt.ylabel(\"Profit\")\n",
        "plt.bar(df[\"Discount\"], df[\"Profit\"], width = 0.4)\n",
        "plt.show()"
      ],
      "execution_count": 50,
      "outputs": [
        {
          "output_type": "display_data",
          "data": {
            "image/png": "[encoded data removed]",
            "text/plain": [
              "<Figure size 432x288 with 1 Axes>"
            ]
          },
          "metadata": {
            "tags": [],
            "needs_background": "light"
          }
        }
      ]
    },
    {
      "cell_type": "code",
      "metadata": {
        "colab": {
          "base_uri": "https://localhost:8080/"
        },
        "id": "oe-5iEyljR4K",
        "outputId": "3420d6c5-bc87-4a7e-ac76-5af73206d8b9"
      },
      "source": [
        "df.groupby([\"Category\"])[\"Profit\"].mean()"
      ],
      "execution_count": 51,
      "outputs": [
        {
          "output_type": "execute_result",
          "data": {
            "text/plain": [
              "Category\n",
              "Furniture           8.699327\n",
              "Office Supplies    20.327050\n",
              "Technology         78.752002\n",
              "Name: Profit, dtype: float64"
            ]
          },
          "metadata": {
            "tags": []
          },
          "execution_count": 51
        }
      ]
    },
    {
      "cell_type": "code",
      "metadata": {
        "colab": {
          "base_uri": "https://localhost:8080/",
          "height": 279
        },
        "id": "ZU6EKkJyzxQ9",
        "outputId": "fc234aff-f2b9-4433-f271-55b2a10c9dbe"
      },
      "source": [
        "plt.xlabel(\"Category\")\n",
        "plt.ylabel(\"Profit\")\n",
        "plt.bar(df[\"Category\"], df[\"Profit\"])\n",
        "plt.show()"
      ],
      "execution_count": 52,
      "outputs": [
        {
          "output_type": "display_data",
          "data": {
            "image/png": "[encoded data removed]",
            "text/plain": [
              "<Figure size 432x288 with 1 Axes>"
            ]
          },
          "metadata": {
            "tags": [],
            "needs_background": "light"
          }
        }
      ]
    },
    {
      "cell_type": "code",
      "metadata": {
        "colab": {
          "base_uri": "https://localhost:8080/"
        },
        "id": "tb5Nqp_BjZke",
        "outputId": "0f5cb48c-26c0-4aef-d99c-219404af0925"
      },
      "source": [
        "df.groupby([\"Sub-Category\"])[\"Profit\"].mean()"
      ],
      "execution_count": 65,
      "outputs": [
        {
          "output_type": "execute_result",
          "data": {
            "text/plain": [
              "Sub-Category\n",
              "Accessories     54.111788\n",
              "Appliances      38.922758\n",
              "Art              8.200737\n",
              "Binders         19.843574\n",
              "Bookcases      -15.230509\n",
              "Chairs          43.095894\n",
              "Copiers        817.909190\n",
              "Envelopes       27.418019\n",
              "Fasteners        4.375660\n",
              "Furnishings     13.645918\n",
              "Labels          15.236962\n",
              "Machines        29.432669\n",
              "Paper           24.856620\n",
              "Phones          50.073938\n",
              "Storage         25.152277\n",
              "Supplies        -6.258418\n",
              "Tables         -55.565771\n",
              "Name: Profit, dtype: float64"
            ]
          },
          "metadata": {
            "tags": []
          },
          "execution_count": 65
        }
      ]
    },
    {
      "cell_type": "code",
      "metadata": {
        "colab": {
          "base_uri": "https://localhost:8080/",
          "height": 248
        },
        "id": "2Fchvm0e0VWr",
        "outputId": "eef635b9-6a2d-4ee4-bb6e-5b32701a1c51"
      },
      "source": [
        "a = [54.111788, 38.922758, 8.200737, 19.843574, -15.230509, 43.095894, 817.909190, 27.418019, 4.375660, 13.645918, 15.236962, 29.432669, 24.856620, 50.073938, 25.152277, -6.258418, -55.565771]\n",
        "sc = [\"Accessories\", \"Appliances\", \"Art\", \"Binders\", \"Bookcases\", \"Chairs\", \"Copiers\", \"Envelopes\", \"Fasteners\", \"Furnishings\", \"Labels\", \"Machines\", \"Paper\", \"Phones\", \"Storage\", \"Supplies\", \"Tables\"]\n",
        "# plt.xlabel(\"Profit\")\n",
        "# plt.ylabel(\"Sub-Category\")\n",
        "# plt.bar(a)\n",
        "# plt.show()\n",
        "\n",
        "plt.pie(a, labels = sc)\n",
        "plt.show()"
      ],
      "execution_count": 66,
      "outputs": [
        {
          "output_type": "display_data",
          "data": {
            "image/png": "[encoded data removed]",
            "text/plain": [
              "<Figure size 432x288 with 1 Axes>"
            ]
          },
          "metadata": {
            "tags": []
          }
        }
      ]
    },
    {
      "cell_type": "code",
      "metadata": {
        "colab": {
          "base_uri": "https://localhost:8080/"
        },
        "id": "km7xrjjujp0U",
        "outputId": "f2df2d2c-d835-495a-c11e-d9da3aa41581"
      },
      "source": [
        "df.groupby([\"Sales\"])[\"Profit\"].mean()"
      ],
      "execution_count": 16,
      "outputs": [
        {
          "output_type": "execute_result",
          "data": {
            "text/plain": [
              "Sales\n",
              "0.444          -1.1100\n",
              "0.556          -0.9452\n",
              "0.836          -1.3376\n",
              "0.852          -0.5964\n",
              "0.876          -1.4016\n",
              "               ...    \n",
              "10499.970    5039.9856\n",
              "11199.968    3919.9888\n",
              "13999.960    6719.9808\n",
              "17499.950    8399.9760\n",
              "22638.480   -1811.0784\n",
              "Name: Profit, Length: 5825, dtype: float64"
            ]
          },
          "metadata": {
            "tags": []
          },
          "execution_count": 16
        }
      ]
    },
    {
      "cell_type": "code",
      "metadata": {
        "colab": {
          "base_uri": "https://localhost:8080/"
        },
        "id": "wVBIzmw_jxB4",
        "outputId": "6c80c486-7b8c-4810-d680-289b236ef9eb"
      },
      "source": [
        "df.groupby([\"Quantity\"])[\"Profit\"].mean()"
      ],
      "execution_count": 17,
      "outputs": [
        {
          "output_type": "execute_result",
          "data": {
            "text/plain": [
              "Quantity\n",
              "1       8.276396\n",
              "2      16.006831\n",
              "3      23.667715\n",
              "4      37.131310\n",
              "5      40.257394\n",
              "6      18.051517\n",
              "7      56.579163\n",
              "8      42.244342\n",
              "9      68.557716\n",
              "10     35.862404\n",
              "11    126.275503\n",
              "12     51.524609\n",
              "13    235.144481\n",
              "14     93.931166\n",
              "Name: Profit, dtype: float64"
            ]
          },
          "metadata": {
            "tags": []
          },
          "execution_count": 17
        }
      ]
    },
    {
      "cell_type": "code",
      "metadata": {
        "colab": {
          "base_uri": "https://localhost:8080/",
          "height": 279
        },
        "id": "qJ3e6cD86a05",
        "outputId": "0989538b-fde9-4d94-9cba-0032e6f6ba7d"
      },
      "source": [
        "plt.xlabel(\"Quantity\")\n",
        "plt.ylabel(\"Profit\")\n",
        "plt.bar(df[\"Quantity\"], df[\"Profit\"])\n",
        "plt.show()"
      ],
      "execution_count": 68,
      "outputs": [
        {
          "output_type": "display_data",
          "data": {
            "image/png": "[encoded data removed]",
            "text/plain": [
              "<Figure size 432x288 with 1 Axes>"
            ]
          },
          "metadata": {
            "tags": [],
            "needs_background": "light"
          }
        }
      ]
    },
    {
      "cell_type": "markdown",
      "metadata": {
        "id": "AVglPp0KBOU1"
      },
      "source": [
        "**Conclusion:** As we can see from above analysis, Sales is mostly depends on region, city, postal code, category and sub category things bought by people. Discount is also affects the sales and profit.\n"
      ]
    }
  ]
}